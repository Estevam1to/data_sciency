{
 "cells": [
  {
   "cell_type": "code",
   "execution_count": null,
   "id": "d0e53a65",
   "metadata": {},
   "outputs": [],
   "source": [
    "import pandas as pd\n",
    "import numpy as np\n",
    "import matplotlib.pyplot as plt\n",
    "import seaborn as sns\n",
    "import plotly.express as px"
   ]
  },
  {
   "cell_type": "markdown",
   "id": "86366075",
   "metadata": {},
   "source": [
    "## Base Crédito"
   ]
  },
  {
   "cell_type": "markdown",
   "id": "03cb87ff",
   "metadata": {},
   "source": [
    "#### Obejtivo: Prever se uma pessoa tem a tendência de pagar ou não o empréstimo."
   ]
  },
  {
   "cell_type": "markdown",
   "id": "7a1b4a25",
   "metadata": {},
   "source": [
    "### Exploração dos dados"
   ]
  },
  {
   "cell_type": "code",
   "execution_count": null,
   "id": "76d585b6",
   "metadata": {},
   "outputs": [],
   "source": [
    "base_credit = pd.read_csv('../database/credit_data.csv')"
   ]
  },
  {
   "cell_type": "markdown",
   "id": "33e19bf1",
   "metadata": {},
   "source": [
    "O objetivo é prever o atributo default que indica se o usuário pagou ou não o empréstimo. "
   ]
  },
  {
   "cell_type": "code",
   "execution_count": null,
   "id": "256ff452",
   "metadata": {},
   "outputs": [],
   "source": [
    "base_credit.head() # Exibe as primeiras linhas do dataset"
   ]
  },
  {
   "cell_type": "code",
   "execution_count": null,
   "id": "db060420",
   "metadata": {},
   "outputs": [],
   "source": [
    "base_credit.tail() # Exibe as últimas linhas do dataset"
   ]
  },
  {
   "cell_type": "code",
   "execution_count": null,
   "id": "68182e83",
   "metadata": {},
   "outputs": [],
   "source": [
    "base_credit.describe() # Estatísticas descritivas, quantidade, média, desvio padrão, mínimo, máximo, etc."
   ]
  },
  {
   "cell_type": "code",
   "execution_count": null,
   "id": "bd59c5ca",
   "metadata": {},
   "outputs": [],
   "source": [
    "base_credit[base_credit['income'].max() == base_credit['income']]   # pessoa com a maior renda"
   ]
  },
  {
   "cell_type": "code",
   "execution_count": null,
   "id": "91e345bf",
   "metadata": {},
   "outputs": [],
   "source": [
    "base_credit[base_credit['loan'].min() == base_credit['loan']]   # pessoa com o menor empréstimo"
   ]
  },
  {
   "cell_type": "code",
   "execution_count": null,
   "id": "0348a30e",
   "metadata": {},
   "outputs": [],
   "source": [
    "np.unique(base_credit['default'], return_counts=True) # Contagem de valores únicos"
   ]
  },
  {
   "cell_type": "code",
   "execution_count": null,
   "id": "5982b39f",
   "metadata": {},
   "outputs": [],
   "source": [
    "sns.countplot(x=base_credit['default']); # Gráfico de barras"
   ]
  },
  {
   "cell_type": "code",
   "execution_count": null,
   "id": "54aedd79",
   "metadata": {},
   "outputs": [],
   "source": [
    "plt.hist(x= base_credit['age']); # Histograma para visualizar a distribuição de idades"
   ]
  },
  {
   "cell_type": "code",
   "execution_count": null,
   "id": "a2b0df65",
   "metadata": {},
   "outputs": [],
   "source": [
    "plt.hist(x= base_credit['income']); # Histograma para visualizar a distribuição de renda"
   ]
  },
  {
   "cell_type": "code",
   "execution_count": null,
   "id": "7139efb1",
   "metadata": {},
   "outputs": [],
   "source": [
    "plt.hist(x=base_credit['loan']); # Histograma para visualizar a distribuição de empréstimos"
   ]
  },
  {
   "cell_type": "code",
   "execution_count": null,
   "id": "d0cbf257",
   "metadata": {},
   "outputs": [],
   "source": [
    "grafico = px.scatter_matrix(base_credit, dimensions=['age', 'income', 'loan'], color='default'); # Gráfico de dispersão\n",
    "grafico.show() \n",
    "# visulizar valores que fogem do padrão"
   ]
  },
  {
   "cell_type": "markdown",
   "id": "1534ee5c",
   "metadata": {},
   "source": [
    "### Tratamento de valores Inconsistentes"
   ]
  },
  {
   "cell_type": "code",
   "execution_count": null,
   "id": "27732ef0",
   "metadata": {},
   "outputs": [],
   "source": [
    "base_credit.loc[base_credit['age'] < 0] # idade negativa"
   ]
  },
  {
   "cell_type": "code",
   "execution_count": null,
   "id": "de9a1c44",
   "metadata": {},
   "outputs": [],
   "source": [
    "base_credit[base_credit['age'] < 0] # idade negativa"
   ]
  },
  {
   "cell_type": "code",
   "execution_count": null,
   "id": "316c0267",
   "metadata": {},
   "outputs": [],
   "source": [
    "# Apagar coluna de idade inteira\n",
    "base_credit2 = base_credit.drop('age', axis=1) # axis=1 para apagar coluna inteira, axis=0 para apagar linha inteira\n",
    "base_credit2"
   ]
  },
  {
   "cell_type": "code",
   "execution_count": null,
   "id": "8b495bc8",
   "metadata": {},
   "outputs": [],
   "source": [
    "# Apagar somente registros com valores negativos\n",
    "base_credit3 = base_credit.drop(base_credit[base_credit['age'] < 0].index)\n",
    "base_credit3"
   ]
  },
  {
   "cell_type": "code",
   "execution_count": null,
   "id": "f6b6b5dd",
   "metadata": {},
   "outputs": [],
   "source": [
    "# Validar se os dados foram apagados\n",
    "base_credit3.loc[base_credit3['age'] < 0]"
   ]
  },
  {
   "cell_type": "code",
   "execution_count": null,
   "id": "d5afbc40",
   "metadata": {},
   "outputs": [],
   "source": [
    "# Preencher os valores manualmente \n",
    "# Preencher com a média das idades\n",
    "base_credit.mean() # Média de todas as colunas"
   ]
  },
  {
   "cell_type": "code",
   "execution_count": null,
   "id": "a75e9513",
   "metadata": {},
   "outputs": [],
   "source": [
    "base_credit['age'].mean() # Média da coluna idade"
   ]
  },
  {
   "cell_type": "code",
   "execution_count": null,
   "id": "4938ed12",
   "metadata": {},
   "outputs": [],
   "source": [
    "base_credit['age'][base_credit['age'] > 0].mean() # Média da coluna idade sem valores negativos"
   ]
  },
  {
   "cell_type": "code",
   "execution_count": null,
   "id": "657587d7",
   "metadata": {},
   "outputs": [],
   "source": [
    "base_credit.loc[base_credit['age'] < 0, 'age'] = 40.92 # Preencher com a média"
   ]
  },
  {
   "cell_type": "code",
   "execution_count": null,
   "id": "8fc9f6ef",
   "metadata": {},
   "outputs": [],
   "source": [
    "base_credit.loc[base_credit['age'] < 0] # Validar se os valores foram preenchidos"
   ]
  },
  {
   "cell_type": "code",
   "execution_count": null,
   "id": "0c687f4e",
   "metadata": {},
   "outputs": [],
   "source": [
    "base_credit.head(27)"
   ]
  },
  {
   "cell_type": "code",
   "execution_count": null,
   "id": "869ef8de",
   "metadata": {},
   "outputs": [],
   "source": [
    "grafico = px.scatter_matrix(base_credit, dimensions=['age', 'income', 'loan'], color='default'); # Gráfico de dispersão\n",
    "grafico.show()"
   ]
  },
  {
   "cell_type": "markdown",
   "id": "5f5da075",
   "metadata": {},
   "source": [
    "### Tratamento dos Valores que estão faltando"
   ]
  },
  {
   "cell_type": "code",
   "execution_count": null,
   "id": "9f691b0b",
   "metadata": {},
   "outputs": [],
   "source": [
    "base_credit.isnull()"
   ]
  },
  {
   "cell_type": "code",
   "execution_count": null,
   "id": "c5173d9d",
   "metadata": {},
   "outputs": [],
   "source": [
    "base_credit.isnull().sum()"
   ]
  },
  {
   "cell_type": "code",
   "execution_count": null,
   "id": "46c1408b",
   "metadata": {},
   "outputs": [],
   "source": [
    "base_credit.loc[pd.isnull(base_credit['age'])] # Localizar valores nulos"
   ]
  },
  {
   "cell_type": "code",
   "execution_count": null,
   "id": "bc605b37",
   "metadata": {},
   "outputs": [],
   "source": [
    "# Preencher valores nulos com a média\n",
    "base_credit.fillna(base_credit['age'].mean(), inplace=True)"
   ]
  },
  {
   "cell_type": "code",
   "execution_count": null,
   "id": "ea73b62f",
   "metadata": {},
   "outputs": [],
   "source": [
    "#testar se os valores nulos foram preenchidos\n",
    "base_credit.loc[pd.isnull(base_credit['age'])]"
   ]
  },
  {
   "cell_type": "code",
   "execution_count": null,
   "id": "970287c7",
   "metadata": {},
   "outputs": [],
   "source": [
    "base_credit.loc[base_credit['clientid'].isin([29, 31, 32])]"
   ]
  },
  {
   "cell_type": "markdown",
   "id": "07bc29ed",
   "metadata": {},
   "source": [
    "### Divisão entre previsores e classe"
   ]
  },
  {
   "cell_type": "code",
   "execution_count": null,
   "id": "2024b144",
   "metadata": {},
   "outputs": [],
   "source": [
    "# Previsores\n",
    "x_credit = base_credit.iloc[:, 1:4].values"
   ]
  },
  {
   "cell_type": "code",
   "execution_count": null,
   "id": "e99da419",
   "metadata": {},
   "outputs": [],
   "source": [
    "x_credit"
   ]
  },
  {
   "cell_type": "code",
   "execution_count": null,
   "id": "186a8c07",
   "metadata": {},
   "outputs": [],
   "source": [
    "# Classe\n",
    "y_credit = base_credit.iloc[:, 4].values"
   ]
  },
  {
   "cell_type": "code",
   "execution_count": null,
   "id": "77c5020a",
   "metadata": {},
   "outputs": [],
   "source": [
    "y_credit"
   ]
  },
  {
   "cell_type": "markdown",
   "id": "963adb70",
   "metadata": {},
   "source": [
    "### Escalonamento de Valores"
   ]
  },
  {
   "cell_type": "code",
   "execution_count": null,
   "id": "8967940f",
   "metadata": {},
   "outputs": [],
   "source": [
    "x_credit[:, 0].min(), x_credit[:, 1].min(), x_credit[:, 2].min() # Renda, idade e dívida mínima"
   ]
  },
  {
   "cell_type": "code",
   "execution_count": null,
   "id": "274cd418",
   "metadata": {},
   "outputs": [],
   "source": [
    "x_credit[:, 0].max(), x_credit[:, 1].max() , x_credit[:, 2].max() # Renda, idade e dívida máximo"
   ]
  },
  {
   "cell_type": "code",
   "execution_count": null,
   "id": "2d88ac2a",
   "metadata": {},
   "outputs": [],
   "source": [
    "# Tranformando os dados para a mesma escala\n",
    "from sklearn.preprocessing import StandardScaler\n",
    "\n",
    "scaler_credit = StandardScaler()\n",
    "x_credit = scaler_credit.fit_transform(x_credit)"
   ]
  },
  {
   "cell_type": "code",
   "execution_count": null,
   "id": "3e99d70d",
   "metadata": {},
   "outputs": [],
   "source": [
    "x_credit[:, 0].min(), x_credit[:, 1].min(), x_credit[:, 2].min() # Renda, idade e dívida mínima"
   ]
  },
  {
   "cell_type": "code",
   "execution_count": null,
   "id": "27b88cf6",
   "metadata": {},
   "outputs": [],
   "source": [
    "x_credit[:, 0].max(), x_credit[:, 1].max() , x_credit[:, 2].max() # Renda, idade e dívida máximo"
   ]
  },
  {
   "cell_type": "markdown",
   "id": "294f4920",
   "metadata": {},
   "source": [
    "#### Divisão de Base de Treinamento e Teste"
   ]
  },
  {
   "cell_type": "code",
   "execution_count": null,
   "id": "f09b2043",
   "metadata": {},
   "outputs": [],
   "source": [
    "from sklearn.model_selection import train_test_split"
   ]
  },
  {
   "cell_type": "code",
   "execution_count": null,
   "id": "dafd7cd9",
   "metadata": {},
   "outputs": [],
   "source": [
    "x_credit_treinament, x_credit_test, y_credit_treinament, y_credit_test = train_test_split(x_credit, y_credit, test_size=0.25, random_state=0)"
   ]
  },
  {
   "cell_type": "code",
   "execution_count": null,
   "id": "d057c22c",
   "metadata": {},
   "outputs": [],
   "source": [
    "x_credit_treinament.shape, x_credit_test.shape, y_credit_treinament.shape, y_credit_test.shape"
   ]
  },
  {
   "cell_type": "code",
   "execution_count": null,
   "id": "e8493bff",
   "metadata": {},
   "outputs": [],
   "source": [
    "import pickle"
   ]
  },
  {
   "cell_type": "code",
   "execution_count": null,
   "id": "b1fa0e8d",
   "metadata": {},
   "outputs": [],
   "source": [
    "with open('../database/credit.pkl', mode = 'wb') as f:\n",
    "    pickle.dump([x_credit_treinament, x_credit_test, y_credit_treinament, y_credit_test], f)"
   ]
  },
  {
   "cell_type": "code",
   "execution_count": null,
   "id": "51274642",
   "metadata": {},
   "outputs": [],
   "source": []
  }
 ],
 "metadata": {
  "kernelspec": {
   "display_name": "Python 3",
   "language": "python",
   "name": "python3"
  },
  "language_info": {
   "codemirror_mode": {
    "name": "ipython",
    "version": 3
   },
   "file_extension": ".py",
   "mimetype": "text/x-python",
   "name": "python",
   "nbconvert_exporter": "python",
   "pygments_lexer": "ipython3",
   "version": "3.11.9"
  }
 },
 "nbformat": 4,
 "nbformat_minor": 5
}
